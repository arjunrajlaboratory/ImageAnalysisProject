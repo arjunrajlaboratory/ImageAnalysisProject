{
 "cells": [
  {
   "cell_type": "markdown",
   "id": "845d3026",
   "metadata": {
    "pycharm": {
     "name": "#%% md\n"
    }
   },
   "source": [
    "# UPennContrast Sandbox"
   ]
  },
  {
   "cell_type": "markdown",
   "id": "6768ee70",
   "metadata": {
    "pycharm": {
     "name": "#%% md\n"
    }
   },
   "source": [
    "1. Set up sandbox by installing Girder and Annotation Client."
   ]
  },
  {
   "cell_type": "code",
   "execution_count": null,
   "id": "9185453a",
   "metadata": {
    "pycharm": {
     "name": "#%%\n"
    }
   },
   "outputs": [],
   "source": [
    "!git clone https://github.com/Kitware/UPennContrast/\n",
    "%cd UPennContrast\n",
    "!git checkout add-annotation-worker\n",
    "%pip install -r devops/girder/annotation_client/requirements.txt\n",
    "%pip install -e devops/girder/annotation_client/\n",
    "%pip install pandas\n",
    "%pip install imageio\n",
    "\n",
    "import IPython\n",
    "IPython.Application.instance().kernel.do_shutdown(True)"
   ]
  },
  {
   "cell_type": "markdown",
   "id": "c6dfdcb7",
   "metadata": {
    "pycharm": {
     "name": "#%% md\n"
    }
   },
   "source": [
    "2. Import all necessary packages."
   ]
  },
  {
   "cell_type": "code",
   "execution_count": null,
   "id": "fb7d1379",
   "metadata": {
    "pycharm": {
     "name": "#%%\n"
    }
   },
   "outputs": [],
   "source": [
    "import girder_client\n",
    "import annotation_client.annotations as annotations\n",
    "import annotation_client.tiles as tiles\n",
    "import pandas as pd\n",
    "import imageio\n",
    "pd.set_option('display.max_colwidth', None)"
   ]
  },
  {
   "cell_type": "markdown",
   "id": "1067f9fa",
   "metadata": {
    "pycharm": {
     "name": "#%% md\n"
    }
   },
   "source": [
    "2. Specify apiUrl and account information for authentication."
   ]
  },
  {
   "cell_type": "code",
   "execution_count": null,
   "id": "e4715b83",
   "metadata": {
    "pycharm": {
     "name": "#%%\n"
    }
   },
   "outputs": [],
   "source": [
    "apiUrl = 'http://localhost:8080/api/v1'\n",
    "username = 'admin'\n",
    "password = 'password'"
   ]
  },
  {
   "cell_type": "markdown",
   "id": "b07a308f",
   "metadata": {
    "pycharm": {
     "name": "#%% md\n"
    }
   },
   "source": [
    "3. Create an instance of the Annotation Client."
   ]
  },
  {
   "cell_type": "code",
   "execution_count": null,
   "id": "d8a5c414",
   "metadata": {
    "pycharm": {
     "name": "#%%\n"
    }
   },
   "outputs": [],
   "source": [
    "client = girder_client.GirderClient(apiUrl=apiUrl)\n",
    "user_id = client.authenticate(username=username, password=password)['_id']\n",
    "annotationClient = annotations.UPennContrastAnnotationClient(apiUrl=apiUrl, token=client.token)"
   ]
  },
  {
   "cell_type": "markdown",
   "id": "a229db56",
   "metadata": {
    "pycharm": {
     "name": "#%% md\n"
    }
   },
   "source": [
    "4. Obtain and list all datasets."
   ]
  },
  {
   "cell_type": "code",
   "execution_count": null,
   "id": "6d2a5494",
   "metadata": {
    "pycharm": {
     "name": "#%%\n"
    }
   },
   "outputs": [],
   "source": [
    "datasets = dict()\n",
    "for folder in annotationClient.client.listFolder(user_id,'user'):\n",
    "    for dataset in annotationClient.client.listFolder(folder['_id']):\n",
    "        if dataset['meta']['subtype'] == 'contrastDataset':\n",
    "            datasets[dataset['name']] = dataset['_id']\n",
    "\n",
    "pd.DataFrame(datasets.keys(),columns=['Dataset Name'])"
   ]
  },
  {
   "cell_type": "markdown",
   "id": "4f75d002",
   "metadata": {
    "pycharm": {
     "name": "#%% md\n"
    }
   },
   "source": [
    "5. Select the name of a dataset."
   ]
  },
  {
   "cell_type": "code",
   "execution_count": null,
   "id": "7db26d55",
   "metadata": {
    "pycharm": {
     "name": "#%%\n"
    }
   },
   "outputs": [],
   "source": [
    "dataset_name = ''"
   ]
  },
  {
   "cell_type": "markdown",
   "id": "ad20d7e5",
   "metadata": {
    "pycharm": {
     "name": "#%% md\n"
    }
   },
   "source": [
    "6. Create an instance of the dataset client."
   ]
  },
  {
   "cell_type": "code",
   "execution_count": null,
   "id": "a50788b2",
   "metadata": {
    "pycharm": {
     "name": "#%%\n"
    }
   },
   "outputs": [],
   "source": [
    "datasetId = datasets[dataset_name]\n",
    "datasetClient = tiles.UPennContrastDataset(apiUrl=apiUrl, token=client.token, datasetId=datasetId)"
   ]
  },
  {
   "cell_type": "markdown",
   "id": "cf22ef9d",
   "metadata": {
    "pycharm": {
     "name": "#%% md\n"
    }
   },
   "source": [
    "7. Write and test out your algorithm. Below are some examples of common data structures to request from the API."
   ]
  },
  {
   "cell_type": "code",
   "execution_count": null,
   "id": "8bd34ccf",
   "metadata": {
    "pycharm": {
     "name": "#%%\n"
    }
   },
   "outputs": [],
   "source": [
    "# Obtain a list of point annotations\n",
    "\n",
    "annotationList = annotationClient.getAnnotationsByDatasetId(datasetId, shape='point')"
   ]
  },
  {
   "cell_type": "code",
   "execution_count": null,
   "id": "e0de5834",
   "metadata": {
    "pycharm": {
     "name": "#%%\n"
    }
   },
   "outputs": [],
   "source": [
    "# Obtain a list of blob annotations\n",
    "\n",
    "annotationList = annotationClient.getAnnotationsByDatasetId(datasetId, shape='polygon')"
   ]
  },
  {
   "cell_type": "code",
   "execution_count": null,
   "id": "1d754979",
   "metadata": {
    "pycharm": {
     "name": "#%%\n"
    }
   },
   "outputs": [],
   "source": [
    "# Obtain a list of connections\n",
    "\n",
    "connectionList = annotationClient.getAnnotationConnections(datasetId)"
   ]
  },
  {
   "cell_type": "code",
   "execution_count": null,
   "id": "bf25bb37",
   "metadata": {
    "pycharm": {
     "name": "#%%\n"
    }
   },
   "outputs": [],
   "source": [
    "# Obtain the raw image for each annotation\n",
    "\n",
    "for annotation in annotationList:\n",
    "\n",
    "    channel = annotation['channel']\n",
    "    location = annotation['location']\n",
    "    time, z, xy = location['Time'], location['Z'], location['XY']\n",
    "    frame = datasetClient.coordinatesToFrameIndex(xy, z, time, channel)\n",
    "    image = datasetClient.getRegion(datasetId, frame=frame)"
   ]
  },
  {
   "cell_type": "code",
   "execution_count": null,
   "id": "d6bd7c35",
   "metadata": {
    "pycharm": {
     "name": "#%%\n"
    }
   },
   "outputs": [],
   "source": []
  }
 ],
 "metadata": {
  "kernelspec": {
   "display_name": "Python 3 (ipykernel)",
   "language": "python",
   "name": "python3"
  },
  "language_info": {
   "codemirror_mode": {
    "name": "ipython",
    "version": 3
   },
   "file_extension": ".py",
   "mimetype": "text/x-python",
   "name": "python",
   "nbconvert_exporter": "python",
   "pygments_lexer": "ipython3",
   "version": "3.10.4"
  }
 },
 "nbformat": 4,
 "nbformat_minor": 5
}
